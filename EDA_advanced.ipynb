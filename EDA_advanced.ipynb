{
 "cells": [
  {
   "cell_type": "markdown",
   "metadata": {},
   "source": [
    "# King County advanced EDA\n",
    "\n",
    "This notebook follows some advanced exploratory data analaysis ideas outlined in Michael P. Notters [\"Advanced exploratory data analysis (EDA)\"](https://miykael.github.io/blog/2022/advanced_eda/) and is used as an practice approach to improve my EDA.\n",
    "\n",
    "It uses some tools to get a quick handle on tabular data, but is in no way a complete approach.\n",
    "\n",
    "In this notebook we first look int the structure of our data, followed by the quality and content.\n",
    "\n",
    "1. **Structure**: general exploration of shape, data types, etc.\n",
    "2. **Quality**: informaton about missing data, duplicate entries, outliers (unwanted entries)\n",
    "3. **Content**: more in-depth analysis to understand our feature values and how they relate to each other\n",
    "\n",
    "\n",
    "Beforehand however we need to load the data. For this purpose we are using pandas."
   ]
  },
  {
   "cell_type": "code",
   "execution_count": 4,
   "metadata": {},
   "outputs": [],
   "source": [
    "import pandas as pd\n",
    "\n",
    "# load the data into a pandas data frame using the pd.read_csv method\n",
    "df = pd.read_csv('data/King_County_House_prices_dataset.csv')"
   ]
  },
  {
   "cell_type": "markdown",
   "metadata": {},
   "source": [
    "### 1. Structure Analysis\n",
    "\n",
    "As mentioned, before we are looking into the quality and Content of our data, we start out with a very basic analysis of the structure.\n",
    "The first step is to find out how many observations and features we have."
   ]
  },
  {
   "cell_type": "code",
   "execution_count": 6,
   "metadata": {},
   "outputs": [
    {
     "data": {
      "text/plain": [
       "(21597, 21)"
      ]
     },
     "execution_count": 6,
     "metadata": {},
     "output_type": "execute_result"
    }
   ],
   "source": [
    "# display size of the dataframe\n",
    "df.shape"
   ]
  },
  {
   "cell_type": "markdown",
   "metadata": {},
   "source": [
    "With this we know that our dataset contains roughl 21k observations and 21 column features.\n",
    "\n",
    "Next, we want to understand with how many different data types we are dealing."
   ]
  },
  {
   "cell_type": "code",
   "execution_count": 8,
   "metadata": {},
   "outputs": [
    {
     "data": {
      "text/plain": [
       "int64      11\n",
       "float64     8\n",
       "object      2\n",
       "dtype: int64"
      ]
     },
     "execution_count": 8,
     "metadata": {},
     "output_type": "execute_result"
    }
   ],
   "source": [
    "# display how often the different data types are represented within our dataset\n",
    "df.dtypes.value_counts()"
   ]
  },
  {
   "cell_type": "markdown",
   "metadata": {},
   "source": [
    "#### 1.1 Structure of non-numerical features\n",
    "\n",
    "We are dealing with numerical data (int and float) as well as with 2 non-numerical features. We start by looking into the 2 non-numerical columns in our dataset."
   ]
  },
  {
   "cell_type": "code",
   "execution_count": 12,
   "metadata": {},
   "outputs": [
    {
     "data": {
      "text/html": [
       "<div>\n",
       "<style scoped>\n",
       "    .dataframe tbody tr th:only-of-type {\n",
       "        vertical-align: middle;\n",
       "    }\n",
       "\n",
       "    .dataframe tbody tr th {\n",
       "        vertical-align: top;\n",
       "    }\n",
       "\n",
       "    .dataframe thead th {\n",
       "        text-align: right;\n",
       "    }\n",
       "</style>\n",
       "<table border=\"1\" class=\"dataframe\">\n",
       "  <thead>\n",
       "    <tr style=\"text-align: right;\">\n",
       "      <th></th>\n",
       "      <th>date</th>\n",
       "      <th>sqft_basement</th>\n",
       "    </tr>\n",
       "  </thead>\n",
       "  <tbody>\n",
       "    <tr>\n",
       "      <th>0</th>\n",
       "      <td>10/13/2014</td>\n",
       "      <td>0.0</td>\n",
       "    </tr>\n",
       "    <tr>\n",
       "      <th>1</th>\n",
       "      <td>12/9/2014</td>\n",
       "      <td>400.0</td>\n",
       "    </tr>\n",
       "    <tr>\n",
       "      <th>2</th>\n",
       "      <td>2/25/2015</td>\n",
       "      <td>0.0</td>\n",
       "    </tr>\n",
       "    <tr>\n",
       "      <th>3</th>\n",
       "      <td>12/9/2014</td>\n",
       "      <td>910.0</td>\n",
       "    </tr>\n",
       "    <tr>\n",
       "      <th>4</th>\n",
       "      <td>2/18/2015</td>\n",
       "      <td>0.0</td>\n",
       "    </tr>\n",
       "  </tbody>\n",
       "</table>\n",
       "</div>"
      ],
      "text/plain": [
       "         date sqft_basement\n",
       "0  10/13/2014           0.0\n",
       "1   12/9/2014         400.0\n",
       "2   2/25/2015           0.0\n",
       "3   12/9/2014         910.0\n",
       "4   2/18/2015           0.0"
      ]
     },
     "execution_count": 12,
     "metadata": {},
     "output_type": "execute_result"
    }
   ],
   "source": [
    "# display the first 5 entries of our non-numerical features\n",
    "df.select_dtypes(exclude='number').head()"
   ]
  },
  {
   "cell_type": "markdown",
   "metadata": {},
   "source": [
    "Even though sqft_basement is a numerical feature it was stored as a non-numerical one. Quite similar with date, which is ideally stored as a dateformat for further analysis.\n",
    "Thus, in the next step we look more in detail into this two features and try to convert them to their ideal data type.\n",
    "\n",
    "In order to check if the sqft_basement contains only numerical data and can be converted, we are using RegEx"
   ]
  },
  {
   "cell_type": "code",
   "execution_count": 1,
   "metadata": {},
   "outputs": [
    {
     "ename": "NameError",
     "evalue": "name 'df' is not defined",
     "output_type": "error",
     "traceback": [
      "\u001b[0;31m---------------------------------------------------------------------------\u001b[0m",
      "\u001b[0;31mNameError\u001b[0m                                 Traceback (most recent call last)",
      "\u001b[1;32m/home/greenfirefly/neuefische/ds-eda-project/EDA_advanced.ipynb Cell 10'\u001b[0m in \u001b[0;36m<cell line: 5>\u001b[0;34m()\u001b[0m\n\u001b[1;32m      <a href='vscode-notebook-cell://wsl%2Bubuntu/home/greenfirefly/neuefische/ds-eda-project/EDA_advanced.ipynb#ch0000009vscode-remote?line=0'>1</a>\u001b[0m \u001b[39mimport\u001b[39;00m \u001b[39mre\u001b[39;00m\n\u001b[1;32m      <a href='vscode-notebook-cell://wsl%2Bubuntu/home/greenfirefly/neuefische/ds-eda-project/EDA_advanced.ipynb#ch0000009vscode-remote?line=3'>4</a>\u001b[0m \u001b[39m# inspect the different values within the 'sqft_basement' \u001b[39;00m\n\u001b[0;32m----> <a href='vscode-notebook-cell://wsl%2Bubuntu/home/greenfirefly/neuefische/ds-eda-project/EDA_advanced.ipynb#ch0000009vscode-remote?line=4'>5</a>\u001b[0m df[\u001b[39m'\u001b[39m\u001b[39msqft_basement\u001b[39m\u001b[39m'\u001b[39m]\u001b[39m.\u001b[39mvalue_counts()\n",
      "\u001b[0;31mNameError\u001b[0m: name 'df' is not defined"
     ]
    }
   ],
   "source": [
    "import re\n",
    "\n",
    "\n",
    "# inspect the different values within the 'sqft_basement' \n",
    "df['sqft_basement'].value_counts()"
   ]
  },
  {
   "cell_type": "code",
   "execution_count": 11,
   "metadata": {},
   "outputs": [
    {
     "ename": "ValueError",
     "evalue": "could not convert string to float: '?'",
     "output_type": "error",
     "traceback": [
      "\u001b[0;31m---------------------------------------------------------------------------\u001b[0m",
      "\u001b[0;31mValueError\u001b[0m                                Traceback (most recent call last)",
      "\u001b[1;32m/home/greenfirefly/neuefische/ds-eda-project/EDA_advanced.ipynb Cell 10'\u001b[0m in \u001b[0;36m<cell line: 1>\u001b[0;34m()\u001b[0m\n\u001b[0;32m----> <a href='vscode-notebook-cell://wsl%2Bubuntu/home/greenfirefly/neuefische/ds-eda-project/EDA_advanced.ipynb#ch0000019vscode-remote?line=0'>1</a>\u001b[0m df[\u001b[39m'\u001b[39m\u001b[39msqft_basement\u001b[39m\u001b[39m'\u001b[39m] \u001b[39m=\u001b[39m df[\u001b[39m'\u001b[39;49m\u001b[39msqft_basement\u001b[39;49m\u001b[39m'\u001b[39;49m]\u001b[39m.\u001b[39;49mastype(\u001b[39m'\u001b[39;49m\u001b[39mfloat\u001b[39;49m\u001b[39m'\u001b[39;49m)\n",
      "File \u001b[0;32m~/neuefische/ds-eda-project/.venv/lib/python3.9/site-packages/pandas/core/generic.py:5815\u001b[0m, in \u001b[0;36mNDFrame.astype\u001b[0;34m(self, dtype, copy, errors)\u001b[0m\n\u001b[1;32m   <a href='file:///home/greenfirefly/neuefische/ds-eda-project/.venv/lib/python3.9/site-packages/pandas/core/generic.py?line=5807'>5808</a>\u001b[0m     results \u001b[39m=\u001b[39m [\n\u001b[1;32m   <a href='file:///home/greenfirefly/neuefische/ds-eda-project/.venv/lib/python3.9/site-packages/pandas/core/generic.py?line=5808'>5809</a>\u001b[0m         \u001b[39mself\u001b[39m\u001b[39m.\u001b[39miloc[:, i]\u001b[39m.\u001b[39mastype(dtype, copy\u001b[39m=\u001b[39mcopy)\n\u001b[1;32m   <a href='file:///home/greenfirefly/neuefische/ds-eda-project/.venv/lib/python3.9/site-packages/pandas/core/generic.py?line=5809'>5810</a>\u001b[0m         \u001b[39mfor\u001b[39;00m i \u001b[39min\u001b[39;00m \u001b[39mrange\u001b[39m(\u001b[39mlen\u001b[39m(\u001b[39mself\u001b[39m\u001b[39m.\u001b[39mcolumns))\n\u001b[1;32m   <a href='file:///home/greenfirefly/neuefische/ds-eda-project/.venv/lib/python3.9/site-packages/pandas/core/generic.py?line=5810'>5811</a>\u001b[0m     ]\n\u001b[1;32m   <a href='file:///home/greenfirefly/neuefische/ds-eda-project/.venv/lib/python3.9/site-packages/pandas/core/generic.py?line=5812'>5813</a>\u001b[0m \u001b[39melse\u001b[39;00m:\n\u001b[1;32m   <a href='file:///home/greenfirefly/neuefische/ds-eda-project/.venv/lib/python3.9/site-packages/pandas/core/generic.py?line=5813'>5814</a>\u001b[0m     \u001b[39m# else, only a single dtype is given\u001b[39;00m\n\u001b[0;32m-> <a href='file:///home/greenfirefly/neuefische/ds-eda-project/.venv/lib/python3.9/site-packages/pandas/core/generic.py?line=5814'>5815</a>\u001b[0m     new_data \u001b[39m=\u001b[39m \u001b[39mself\u001b[39;49m\u001b[39m.\u001b[39;49m_mgr\u001b[39m.\u001b[39;49mastype(dtype\u001b[39m=\u001b[39;49mdtype, copy\u001b[39m=\u001b[39;49mcopy, errors\u001b[39m=\u001b[39;49merrors)\n\u001b[1;32m   <a href='file:///home/greenfirefly/neuefische/ds-eda-project/.venv/lib/python3.9/site-packages/pandas/core/generic.py?line=5815'>5816</a>\u001b[0m     \u001b[39mreturn\u001b[39;00m \u001b[39mself\u001b[39m\u001b[39m.\u001b[39m_constructor(new_data)\u001b[39m.\u001b[39m__finalize__(\u001b[39mself\u001b[39m, method\u001b[39m=\u001b[39m\u001b[39m\"\u001b[39m\u001b[39mastype\u001b[39m\u001b[39m\"\u001b[39m)\n\u001b[1;32m   <a href='file:///home/greenfirefly/neuefische/ds-eda-project/.venv/lib/python3.9/site-packages/pandas/core/generic.py?line=5817'>5818</a>\u001b[0m \u001b[39m# GH 33113: handle empty frame or series\u001b[39;00m\n",
      "File \u001b[0;32m~/neuefische/ds-eda-project/.venv/lib/python3.9/site-packages/pandas/core/internals/managers.py:418\u001b[0m, in \u001b[0;36mBaseBlockManager.astype\u001b[0;34m(self, dtype, copy, errors)\u001b[0m\n\u001b[1;32m    <a href='file:///home/greenfirefly/neuefische/ds-eda-project/.venv/lib/python3.9/site-packages/pandas/core/internals/managers.py?line=416'>417</a>\u001b[0m \u001b[39mdef\u001b[39;00m \u001b[39mastype\u001b[39m(\u001b[39mself\u001b[39m: T, dtype, copy: \u001b[39mbool\u001b[39m \u001b[39m=\u001b[39m \u001b[39mFalse\u001b[39;00m, errors: \u001b[39mstr\u001b[39m \u001b[39m=\u001b[39m \u001b[39m\"\u001b[39m\u001b[39mraise\u001b[39m\u001b[39m\"\u001b[39m) \u001b[39m-\u001b[39m\u001b[39m>\u001b[39m T:\n\u001b[0;32m--> <a href='file:///home/greenfirefly/neuefische/ds-eda-project/.venv/lib/python3.9/site-packages/pandas/core/internals/managers.py?line=417'>418</a>\u001b[0m     \u001b[39mreturn\u001b[39;00m \u001b[39mself\u001b[39;49m\u001b[39m.\u001b[39;49mapply(\u001b[39m\"\u001b[39;49m\u001b[39mastype\u001b[39;49m\u001b[39m\"\u001b[39;49m, dtype\u001b[39m=\u001b[39;49mdtype, copy\u001b[39m=\u001b[39;49mcopy, errors\u001b[39m=\u001b[39;49merrors)\n",
      "File \u001b[0;32m~/neuefische/ds-eda-project/.venv/lib/python3.9/site-packages/pandas/core/internals/managers.py:327\u001b[0m, in \u001b[0;36mBaseBlockManager.apply\u001b[0;34m(self, f, align_keys, ignore_failures, **kwargs)\u001b[0m\n\u001b[1;32m    <a href='file:///home/greenfirefly/neuefische/ds-eda-project/.venv/lib/python3.9/site-packages/pandas/core/internals/managers.py?line=324'>325</a>\u001b[0m         applied \u001b[39m=\u001b[39m b\u001b[39m.\u001b[39mapply(f, \u001b[39m*\u001b[39m\u001b[39m*\u001b[39mkwargs)\n\u001b[1;32m    <a href='file:///home/greenfirefly/neuefische/ds-eda-project/.venv/lib/python3.9/site-packages/pandas/core/internals/managers.py?line=325'>326</a>\u001b[0m     \u001b[39melse\u001b[39;00m:\n\u001b[0;32m--> <a href='file:///home/greenfirefly/neuefische/ds-eda-project/.venv/lib/python3.9/site-packages/pandas/core/internals/managers.py?line=326'>327</a>\u001b[0m         applied \u001b[39m=\u001b[39m \u001b[39mgetattr\u001b[39;49m(b, f)(\u001b[39m*\u001b[39;49m\u001b[39m*\u001b[39;49mkwargs)\n\u001b[1;32m    <a href='file:///home/greenfirefly/neuefische/ds-eda-project/.venv/lib/python3.9/site-packages/pandas/core/internals/managers.py?line=327'>328</a>\u001b[0m \u001b[39mexcept\u001b[39;00m (\u001b[39mTypeError\u001b[39;00m, \u001b[39mNotImplementedError\u001b[39;00m):\n\u001b[1;32m    <a href='file:///home/greenfirefly/neuefische/ds-eda-project/.venv/lib/python3.9/site-packages/pandas/core/internals/managers.py?line=328'>329</a>\u001b[0m     \u001b[39mif\u001b[39;00m \u001b[39mnot\u001b[39;00m ignore_failures:\n",
      "File \u001b[0;32m~/neuefische/ds-eda-project/.venv/lib/python3.9/site-packages/pandas/core/internals/blocks.py:591\u001b[0m, in \u001b[0;36mBlock.astype\u001b[0;34m(self, dtype, copy, errors)\u001b[0m\n\u001b[1;32m    <a href='file:///home/greenfirefly/neuefische/ds-eda-project/.venv/lib/python3.9/site-packages/pandas/core/internals/blocks.py?line=572'>573</a>\u001b[0m \u001b[39m\"\"\"\u001b[39;00m\n\u001b[1;32m    <a href='file:///home/greenfirefly/neuefische/ds-eda-project/.venv/lib/python3.9/site-packages/pandas/core/internals/blocks.py?line=573'>574</a>\u001b[0m \u001b[39mCoerce to the new dtype.\u001b[39;00m\n\u001b[1;32m    <a href='file:///home/greenfirefly/neuefische/ds-eda-project/.venv/lib/python3.9/site-packages/pandas/core/internals/blocks.py?line=574'>575</a>\u001b[0m \n\u001b[0;32m   (...)\u001b[0m\n\u001b[1;32m    <a href='file:///home/greenfirefly/neuefische/ds-eda-project/.venv/lib/python3.9/site-packages/pandas/core/internals/blocks.py?line=586'>587</a>\u001b[0m \u001b[39mBlock\u001b[39;00m\n\u001b[1;32m    <a href='file:///home/greenfirefly/neuefische/ds-eda-project/.venv/lib/python3.9/site-packages/pandas/core/internals/blocks.py?line=587'>588</a>\u001b[0m \u001b[39m\"\"\"\u001b[39;00m\n\u001b[1;32m    <a href='file:///home/greenfirefly/neuefische/ds-eda-project/.venv/lib/python3.9/site-packages/pandas/core/internals/blocks.py?line=588'>589</a>\u001b[0m values \u001b[39m=\u001b[39m \u001b[39mself\u001b[39m\u001b[39m.\u001b[39mvalues\n\u001b[0;32m--> <a href='file:///home/greenfirefly/neuefische/ds-eda-project/.venv/lib/python3.9/site-packages/pandas/core/internals/blocks.py?line=590'>591</a>\u001b[0m new_values \u001b[39m=\u001b[39m astype_array_safe(values, dtype, copy\u001b[39m=\u001b[39;49mcopy, errors\u001b[39m=\u001b[39;49merrors)\n\u001b[1;32m    <a href='file:///home/greenfirefly/neuefische/ds-eda-project/.venv/lib/python3.9/site-packages/pandas/core/internals/blocks.py?line=592'>593</a>\u001b[0m new_values \u001b[39m=\u001b[39m maybe_coerce_values(new_values)\n\u001b[1;32m    <a href='file:///home/greenfirefly/neuefische/ds-eda-project/.venv/lib/python3.9/site-packages/pandas/core/internals/blocks.py?line=593'>594</a>\u001b[0m newb \u001b[39m=\u001b[39m \u001b[39mself\u001b[39m\u001b[39m.\u001b[39mmake_block(new_values)\n",
      "File \u001b[0;32m~/neuefische/ds-eda-project/.venv/lib/python3.9/site-packages/pandas/core/dtypes/cast.py:1309\u001b[0m, in \u001b[0;36mastype_array_safe\u001b[0;34m(values, dtype, copy, errors)\u001b[0m\n\u001b[1;32m   <a href='file:///home/greenfirefly/neuefische/ds-eda-project/.venv/lib/python3.9/site-packages/pandas/core/dtypes/cast.py?line=1305'>1306</a>\u001b[0m dtype \u001b[39m=\u001b[39m pandas_dtype(dtype)\n\u001b[1;32m   <a href='file:///home/greenfirefly/neuefische/ds-eda-project/.venv/lib/python3.9/site-packages/pandas/core/dtypes/cast.py?line=1307'>1308</a>\u001b[0m \u001b[39mtry\u001b[39;00m:\n\u001b[0;32m-> <a href='file:///home/greenfirefly/neuefische/ds-eda-project/.venv/lib/python3.9/site-packages/pandas/core/dtypes/cast.py?line=1308'>1309</a>\u001b[0m     new_values \u001b[39m=\u001b[39m astype_array(values, dtype, copy\u001b[39m=\u001b[39;49mcopy)\n\u001b[1;32m   <a href='file:///home/greenfirefly/neuefische/ds-eda-project/.venv/lib/python3.9/site-packages/pandas/core/dtypes/cast.py?line=1309'>1310</a>\u001b[0m \u001b[39mexcept\u001b[39;00m (\u001b[39mValueError\u001b[39;00m, \u001b[39mTypeError\u001b[39;00m):\n\u001b[1;32m   <a href='file:///home/greenfirefly/neuefische/ds-eda-project/.venv/lib/python3.9/site-packages/pandas/core/dtypes/cast.py?line=1310'>1311</a>\u001b[0m     \u001b[39m# e.g. astype_nansafe can fail on object-dtype of strings\u001b[39;00m\n\u001b[1;32m   <a href='file:///home/greenfirefly/neuefische/ds-eda-project/.venv/lib/python3.9/site-packages/pandas/core/dtypes/cast.py?line=1311'>1312</a>\u001b[0m     \u001b[39m#  trying to convert to float\u001b[39;00m\n\u001b[1;32m   <a href='file:///home/greenfirefly/neuefische/ds-eda-project/.venv/lib/python3.9/site-packages/pandas/core/dtypes/cast.py?line=1312'>1313</a>\u001b[0m     \u001b[39mif\u001b[39;00m errors \u001b[39m==\u001b[39m \u001b[39m\"\u001b[39m\u001b[39mignore\u001b[39m\u001b[39m\"\u001b[39m:\n",
      "File \u001b[0;32m~/neuefische/ds-eda-project/.venv/lib/python3.9/site-packages/pandas/core/dtypes/cast.py:1257\u001b[0m, in \u001b[0;36mastype_array\u001b[0;34m(values, dtype, copy)\u001b[0m\n\u001b[1;32m   <a href='file:///home/greenfirefly/neuefische/ds-eda-project/.venv/lib/python3.9/site-packages/pandas/core/dtypes/cast.py?line=1253'>1254</a>\u001b[0m     values \u001b[39m=\u001b[39m values\u001b[39m.\u001b[39mastype(dtype, copy\u001b[39m=\u001b[39mcopy)\n\u001b[1;32m   <a href='file:///home/greenfirefly/neuefische/ds-eda-project/.venv/lib/python3.9/site-packages/pandas/core/dtypes/cast.py?line=1255'>1256</a>\u001b[0m \u001b[39melse\u001b[39;00m:\n\u001b[0;32m-> <a href='file:///home/greenfirefly/neuefische/ds-eda-project/.venv/lib/python3.9/site-packages/pandas/core/dtypes/cast.py?line=1256'>1257</a>\u001b[0m     values \u001b[39m=\u001b[39m astype_nansafe(values, dtype, copy\u001b[39m=\u001b[39;49mcopy)\n\u001b[1;32m   <a href='file:///home/greenfirefly/neuefische/ds-eda-project/.venv/lib/python3.9/site-packages/pandas/core/dtypes/cast.py?line=1258'>1259</a>\u001b[0m \u001b[39m# in pandas we don't store numpy str dtypes, so convert to object\u001b[39;00m\n\u001b[1;32m   <a href='file:///home/greenfirefly/neuefische/ds-eda-project/.venv/lib/python3.9/site-packages/pandas/core/dtypes/cast.py?line=1259'>1260</a>\u001b[0m \u001b[39mif\u001b[39;00m \u001b[39misinstance\u001b[39m(dtype, np\u001b[39m.\u001b[39mdtype) \u001b[39mand\u001b[39;00m \u001b[39missubclass\u001b[39m(values\u001b[39m.\u001b[39mdtype\u001b[39m.\u001b[39mtype, \u001b[39mstr\u001b[39m):\n",
      "File \u001b[0;32m~/neuefische/ds-eda-project/.venv/lib/python3.9/site-packages/pandas/core/dtypes/cast.py:1201\u001b[0m, in \u001b[0;36mastype_nansafe\u001b[0;34m(arr, dtype, copy, skipna)\u001b[0m\n\u001b[1;32m   <a href='file:///home/greenfirefly/neuefische/ds-eda-project/.venv/lib/python3.9/site-packages/pandas/core/dtypes/cast.py?line=1196'>1197</a>\u001b[0m     \u001b[39mraise\u001b[39;00m \u001b[39mValueError\u001b[39;00m(msg)\n\u001b[1;32m   <a href='file:///home/greenfirefly/neuefische/ds-eda-project/.venv/lib/python3.9/site-packages/pandas/core/dtypes/cast.py?line=1198'>1199</a>\u001b[0m \u001b[39mif\u001b[39;00m copy \u001b[39mor\u001b[39;00m is_object_dtype(arr\u001b[39m.\u001b[39mdtype) \u001b[39mor\u001b[39;00m is_object_dtype(dtype):\n\u001b[1;32m   <a href='file:///home/greenfirefly/neuefische/ds-eda-project/.venv/lib/python3.9/site-packages/pandas/core/dtypes/cast.py?line=1199'>1200</a>\u001b[0m     \u001b[39m# Explicit copy, or required since NumPy can't view from / to object.\u001b[39;00m\n\u001b[0;32m-> <a href='file:///home/greenfirefly/neuefische/ds-eda-project/.venv/lib/python3.9/site-packages/pandas/core/dtypes/cast.py?line=1200'>1201</a>\u001b[0m     \u001b[39mreturn\u001b[39;00m arr\u001b[39m.\u001b[39;49mastype(dtype, copy\u001b[39m=\u001b[39;49m\u001b[39mTrue\u001b[39;49;00m)\n\u001b[1;32m   <a href='file:///home/greenfirefly/neuefische/ds-eda-project/.venv/lib/python3.9/site-packages/pandas/core/dtypes/cast.py?line=1202'>1203</a>\u001b[0m \u001b[39mreturn\u001b[39;00m arr\u001b[39m.\u001b[39mastype(dtype, copy\u001b[39m=\u001b[39mcopy)\n",
      "\u001b[0;31mValueError\u001b[0m: could not convert string to float: '?'"
     ]
    }
   ],
   "source": [
    "# convert \n",
    "df['sqft_basement'] = df['sqft_basement'].astype('float')"
   ]
  },
  {
   "cell_type": "code",
   "execution_count": null,
   "metadata": {},
   "outputs": [],
   "source": []
  }
 ],
 "metadata": {
  "interpreter": {
   "hash": "20d987b445144942ba9d609af98070060e340d5d583388ea416e2d5e6e878271"
  },
  "kernelspec": {
   "display_name": "Python 3.9.8 ('.venv': venv)",
   "language": "python",
   "name": "python3"
  },
  "language_info": {
   "codemirror_mode": {
    "name": "ipython",
    "version": 3
   },
   "file_extension": ".py",
   "mimetype": "text/x-python",
   "name": "python",
   "nbconvert_exporter": "python",
   "pygments_lexer": "ipython3",
   "version": "3.9.8"
  },
  "orig_nbformat": 4
 },
 "nbformat": 4,
 "nbformat_minor": 2
}
